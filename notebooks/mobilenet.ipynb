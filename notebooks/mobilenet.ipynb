{
 "cells": [
  {
   "cell_type": "code",
   "execution_count": null,
   "metadata": {
    "collapsed": true
   },
   "outputs": [],
   "source": [
    "import tensorflow as tf\n",
    "import tensorflow_hub as hub\n",
    "import numpy as np"
   ]
  },
  {
   "cell_type": "code",
   "execution_count": null,
   "metadata": {
    "collapsed": true
   },
   "outputs": [],
   "source": [
    "SIZE = 224\n",
    "CLASSES_FILENAME = '../data/mobilenet/imagenet_classes.txt'"
   ]
  },
  {
   "cell_type": "markdown",
   "metadata": {},
   "source": [
    "Download model from hub"
   ]
  },
  {
   "cell_type": "code",
   "execution_count": null,
   "metadata": {
    "collapsed": true
   },
   "outputs": [],
   "source": [
    "hub_url = \"https://tfhub.dev/google/imagenet/mobilenet_v2_035_224/classification/4\"\n",
    "embed = hub.KerasLayer(hub_url)\n",
    "model = tf.keras.Sequential([\n",
    "    embed\n",
    "])"
   ]
  },
  {
   "cell_type": "markdown",
   "metadata": {},
   "source": [
    "Build model providing batch input shape"
   ]
  },
  {
   "cell_type": "code",
   "execution_count": null,
   "metadata": {},
   "outputs": [],
   "source": [
    "model.build([None, SIZE, SIZE, 3])  # Batch input shape.\n",
    "model.summary()"
   ]
  },
  {
   "cell_type": "markdown",
   "metadata": {},
   "source": [
    "Read classes from file"
   ]
  },
  {
   "cell_type": "code",
   "execution_count": null,
   "metadata": {
    "collapsed": true
   },
   "outputs": [],
   "source": [
    "classes = [line.rstrip('\\n') for line in open(CLASSES_FILENAME)]"
   ]
  },
  {
   "cell_type": "markdown",
   "metadata": {},
   "source": [
    "Read test image and vectorize it"
   ]
  },
  {
   "cell_type": "code",
   "execution_count": null,
   "metadata": {},
   "outputs": [],
   "source": [
    "file_path = '../data/mobilenet/panda.jpg'\n",
    "img = tf.io.read_file(file_path)\n",
    "img = tf.image.decode_jpeg(img)\n",
    "\n",
    "images = tf.expand_dims(img, 0)\n",
    "images = tf.cast(images, tf.float32) / 128.\n",
    "images.set_shape((None, None, None, 3))\n",
    "test_image = tf.image.resize(images, (SIZE, SIZE))"
   ]
  },
  {
   "cell_type": "markdown",
   "metadata": {},
   "source": [
    "Get model predictions for image"
   ]
  },
  {
   "cell_type": "code",
   "execution_count": null,
   "metadata": {
    "collapsed": true
   },
   "outputs": [],
   "source": [
    "predictions = model.predict(test_image)\n",
    "class_index = np.argmax(predictions[0])\n",
    "\n",
    "image_class = classes[class_index]"
   ]
  },
  {
   "cell_type": "code",
   "execution_count": null,
   "metadata": {},
   "outputs": [],
   "source": [
    "print('Predicted class: {}. Score: {} '.format(image_class, np.max(predictions[0])))"
   ]
  }
 ],
 "metadata": {
  "kernelspec": {
   "display_name": "explainator-py",
   "language": "python",
   "name": "explainator-py"
  },
  "language_info": {
   "codemirror_mode": {
    "name": "ipython",
    "version": 3
   },
   "file_extension": ".py",
   "mimetype": "text/x-python",
   "name": "python",
   "nbconvert_exporter": "python",
   "pygments_lexer": "ipython3",
   "version": "3.6.3"
  }
 },
 "nbformat": 4,
 "nbformat_minor": 2
}
